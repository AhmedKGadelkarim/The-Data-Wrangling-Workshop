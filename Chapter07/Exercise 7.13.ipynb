{
 "cells": [
  {
   "cell_type": "code",
   "execution_count": null,
   "metadata": {},
   "outputs": [],
   "source": [
    "import pandas as pd \n",
    "import json "
   ]
  },
  {
   "cell_type": "code",
   "execution_count": null,
   "metadata": {},
   "outputs": [],
   "source": [
    "def build_country_database(list_country): \n",
    "    \"\"\" \n",
    "    Takes a list of country names. \n",
    "    Output a DataFrame with key information about those countries. \n",
    "    \"\"\" "
   ]
  },
  {
   "cell_type": "code",
   "execution_count": null,
   "metadata": {},
   "outputs": [],
   "source": [
    "country_dict={'Country':[],'Capital':[],'Region':[],'Sub-region':[],'Population':[], \n",
    "              'Latitude':[],'Longitude':[],'Area':[],'Gini':[],'Timezones':[], \n",
    "                  'Currencies':[],'Languages':[]} \n",
    "for c in list_country: \n",
    "     data = get_country_data(c) \n",
    "    if data!=None: \n",
    "        x = json.loads(data) \n",
    "\n",
    "         y=x[0] \n",
    "\n",
    "        country_dict['Country'].append(y['name']) \n",
    "        country_dict['Capital'].append(y['capital']) \n",
    "\n",
    "         country_dict['Region'].append(y['region']) \n",
    "\n",
    "        country_dict['Sub-region'].append(y['subregion']) \n",
    "\n",
    "         country_dict['Population'].append(y['population']) \n",
    "\n",
    "        country_dict['Latitude'].append(y['latlng'][0]) \n",
    "\n",
    "        country_dict['Longitude'].append(y['latlng'][1]) \n",
    "\n",
    "        country_dict['Area'].append(y['area']) \n",
    "\n",
    "         country_dict['Gini'].append(y['gini']) "
   ]
  },
  {
   "cell_type": "code",
   "execution_count": null,
   "metadata": {},
   "outputs": [],
   "source": [
    "if len(y['timezones'])>1: \n",
    "    country_dict['Timezones'].append(','.join(y['timezones'])) \n",
    "else: \n",
    "    country_dict['Timezones'].append(y['timezones'][0])"
   ]
  },
  {
   "cell_type": "code",
   "execution_count": null,
   "metadata": {},
   "outputs": [],
   "source": [
    "if len(y['currencies'])>1: \n",
    "      lst_currencies = [] \n",
    "    for i in y['currencies']: \n",
    "    \n",
    "     lst_currencies.append(i['name']) \n",
    "    country_dict['Currencies'].append(','.join(lst_currencies)) \n",
    "else: \n",
    "\n",
    "     country_dict['Currencies'].append(y['currencies'][0]['name']) "
   ]
  },
  {
   "cell_type": "code",
   "execution_count": null,
   "metadata": {},
   "outputs": [],
   "source": [
    "if len(y['languages'])>1: \n",
    "    lst_languages = [] \n",
    "    for i in y['languages']: \n",
    "        lst_languages.append(i['name']) \n",
    "            country_dict['Languages'].append(','.join(lst_languages)) \n",
    "else: \n",
    "    country_dict['Languages'].append(y['languages'][0]['name']) "
   ]
  },
  {
   "cell_type": "code",
   "execution_count": null,
   "metadata": {},
   "outputs": [],
   "source": [
    "return pd.DataFrame(country_dict) "
   ]
  },
  {
   "cell_type": "code",
   "execution_count": null,
   "metadata": {},
   "outputs": [],
   "source": [
    "df1=build_country_database(['Nigeria','Switzerland','France', \n",
    "\n",
    "                            'Turmeric','Russia','Kenya','Singapore']) \n",
    "df1"
   ]
  }
 ],
 "metadata": {
  "kernelspec": {
   "display_name": "Python 3",
   "language": "python",
   "name": "python3"
  },
  "language_info": {
   "codemirror_mode": {
    "name": "ipython",
    "version": 3
   },
   "file_extension": ".py",
   "mimetype": "text/x-python",
   "name": "python",
   "nbconvert_exporter": "python",
   "pygments_lexer": "ipython3",
   "version": "3.7.3"
  }
 },
 "nbformat": 4,
 "nbformat_minor": 2
}
