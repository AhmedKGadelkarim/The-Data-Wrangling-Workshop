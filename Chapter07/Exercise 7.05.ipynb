{
 "cells": [
  {
   "cell_type": "raw",
   "metadata": {},
   "source": [
    "# 1.Open the Wikipedia page using this link https://en.wikipedia.org/wiki/Main_Page\n",
    "2.In the Mozilla Firefox browser, we can easily do this by right-clicking and selecting the \"Inspect Element\" option (in Chrome we do the same, except the menu option is called “inspect” only):\n"
   ]
  },
  {
   "cell_type": "code",
   "execution_count": null,
   "metadata": {},
   "outputs": [],
   "source": [
    "text_list=[] #Empty list\n",
    "for d in soup.find_all('div'):\n",
    "        if (d.get('id')=='mp-otd'):\n",
    "            for i in d.find_all('ul'):\n",
    "                text_list.append(i.text)\n"
   ]
  },
  {
   "cell_type": "code",
   "execution_count": null,
   "metadata": {},
   "outputs": [],
   "source": [
    "for i in text_list:\n",
    "    print(i)\n",
    "    print('-'*100)\n"
   ]
  }
 ],
 "metadata": {
  "kernelspec": {
   "display_name": "Python 3",
   "language": "python",
   "name": "python3"
  },
  "language_info": {
   "codemirror_mode": {
    "name": "ipython",
    "version": 3
   },
   "file_extension": ".py",
   "mimetype": "text/x-python",
   "name": "python",
   "nbconvert_exporter": "python",
   "pygments_lexer": "ipython3",
   "version": "3.7.3"
  }
 },
 "nbformat": 4,
 "nbformat_minor": 2
}
