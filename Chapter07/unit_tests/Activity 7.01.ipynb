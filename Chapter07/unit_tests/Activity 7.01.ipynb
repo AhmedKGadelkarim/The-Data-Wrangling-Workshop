{
 "cells": [
  {
   "cell_type": "code",
   "execution_count": null,
   "metadata": {},
   "outputs": [],
   "source": [
    "def test_exercise_1(x) -> bool:\n",
    "    import sys\n",
    "    if \"BeautifulSoup\" in sys.modules:\n",
    "        return False\n",
    "    else:\n",
    "        return True"
   ]
  },
  {
   "cell_type": "code",
   "execution_count": null,
   "metadata": {},
   "outputs": [],
   "source": [
    "def test_exercise_1(x) -> bool:\n",
    "    import sys\n",
    "    if \"ssl\" in sys.modules:\n",
    "        return False\n",
    "    else:\n",
    "        return True"
   ]
  },
  {
   "cell_type": "code",
   "execution_count": null,
   "metadata": {},
   "outputs": [],
   "source": [
    "def test_exercise_1(x) -> bool:\n",
    "    import sys\n",
    "    if \"re\" in sys.modules:\n",
    "        return False\n",
    "    else:\n",
    "        return True"
   ]
  },
  {
   "cell_type": "code",
   "execution_count": null,
   "metadata": {},
   "outputs": [],
   "source": [
    "def test_exercise_1(x) -> bool:\n",
    "    import sys\n",
    "    if \"bs4\" in sys.modules:\n",
    "        return False\n",
    "    else:\n",
    "        return True"
   ]
  },
  {
   "cell_type": "code",
   "execution_count": null,
   "metadata": {},
   "outputs": [],
   "source": [
    "def test_exercise_2(x) -> bool:\n",
    "    import pandas as pd\n",
    "    import urllib.request, urllib.parse, urllib.error \n",
    "    import requests \n",
    "    from bs4 import BeautifulSoup \n",
    "    import ssl \n",
    "    import re\n",
    "    ctx = ssl.create_default_context() \n",
    "    ctx.check_hostname = False \n",
    "    ctx.verify_mode = ssl.CERT_NONE \n",
    "    return ctx == x"
   ]
  },
  {
   "cell_type": "code",
   "execution_count": null,
   "metadata": {},
   "outputs": [],
   "source": [
    "def test_exercise_3(x) -> bool:\n",
    "    import pandas as pd\n",
    "    import urllib.request, urllib.parse, urllib.error \n",
    "    import requests \n",
    "    from bs4 import BeautifulSoup \n",
    "    import ssl \n",
    "    import re\n",
    "    ctx = ssl.create_default_context() \n",
    "    ctx.check_hostname = False \n",
    "    ctx.verify_mode = ssl.CERT_NONE \n",
    "    top100url = 'https://www.gutenberg.org/browse/scores/top' \n",
    "    response = requests.get(top100url) \n",
    "    return response  == x"
   ]
  },
  {
   "cell_type": "code",
   "execution_count": null,
   "metadata": {},
   "outputs": [],
   "source": [
    "def test_exercise_5(x) -> bool:\n",
    "    import pandas as pd\n",
    "    import urllib.request, urllib.parse, urllib.error \n",
    "    import requests \n",
    "    from bs4 import BeautifulSoup \n",
    "    import ssl \n",
    "    import re\n",
    "    ctx = ssl.create_default_context() \n",
    "    ctx.check_hostname = False \n",
    "    ctx.verify_mode = ssl.CERT_NONE \n",
    "    top100url = 'https://www.gutenberg.org/browse/scores/top' \n",
    "    response = requests.get(top100url) \n",
    "    def status_check(r): \n",
    "    if r.status_code==200: \n",
    "        print(\"Success!\") \n",
    "        return 1 \n",
    "    else: \n",
    "        print(\"Failed!\") \n",
    "        return -1 \n",
    "    return status_check(response)   == x"
   ]
  },
  {
   "cell_type": "code",
   "execution_count": null,
   "metadata": {},
   "outputs": [],
   "source": [
    "def test_exercise_6(x) -> bool:\n",
    "    import pandas as pd\n",
    "    import urllib.request, urllib.parse, urllib.error \n",
    "    import requests \n",
    "    from bs4 import BeautifulSoup \n",
    "    import ssl \n",
    "    import re\n",
    "    ctx = ssl.create_default_context() \n",
    "    ctx.check_hostname = False \n",
    "    ctx.verify_mode = ssl.CERT_NONE \n",
    "    top100url = 'https://www.gutenberg.org/browse/scores/top' \n",
    "    response = requests.get(top100url) \n",
    "    def status_check(r): \n",
    "    if r.status_code==200: \n",
    "        print(\"Success!\") \n",
    "        return 1 \n",
    "    else: \n",
    "        print(\"Failed!\") \n",
    "        return -1 \n",
    "    contents = response.content.decode(response.encoding) \n",
    "    soup = BeautifulSoup(contents, 'html.parser') \n",
    "    return soup  == x"
   ]
  },
  {
   "cell_type": "code",
   "execution_count": null,
   "metadata": {},
   "outputs": [],
   "source": [
    "def test_exercise_7(x) -> bool:\n",
    "    import pandas as pd\n",
    "    import urllib.request, urllib.parse, urllib.error \n",
    "    import requests \n",
    "    from bs4 import BeautifulSoup \n",
    "    import ssl \n",
    "    import re\n",
    "    ctx = ssl.create_default_context() \n",
    "    ctx.check_hostname = False \n",
    "    ctx.verify_mode = ssl.CERT_NONE \n",
    "    top100url = 'https://www.gutenberg.org/browse/scores/top' \n",
    "    response = requests.get(top100url) \n",
    "    def status_check(r): \n",
    "    if r.status_code==200: \n",
    "        print(\"Success!\") \n",
    "        return 1 \n",
    "    else: \n",
    "        print(\"Failed!\") \n",
    "        return -1 \n",
    "    contents = response.content.decode(response.encoding) \n",
    "    soup = BeautifulSoup(contents, 'html.parser') \n",
    "    lst_links=[] \n",
    "    for link in soup.find_all('a'): \n",
    "        lst_links.append(link.get('href')) \n",
    "    return lst_links  == x"
   ]
  }
 ],
 "metadata": {
  "kernelspec": {
   "display_name": "Python 3",
   "language": "python",
   "name": "python3"
  },
  "language_info": {
   "codemirror_mode": {
    "name": "ipython",
    "version": 3
   },
   "file_extension": ".py",
   "mimetype": "text/x-python",
   "name": "python",
   "nbconvert_exporter": "python",
   "pygments_lexer": "ipython3",
   "version": "3.7.3"
  }
 },
 "nbformat": 4,
 "nbformat_minor": 2
}
