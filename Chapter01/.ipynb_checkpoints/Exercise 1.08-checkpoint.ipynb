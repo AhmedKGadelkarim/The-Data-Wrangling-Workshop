{
 "cells": [
  {
   "cell_type": "markdown",
   "metadata": {},
   "source": [
    "1. generate a random list with duplicate values"
   ]
  },
  {
   "cell_type": "code",
   "execution_count": 40,
   "metadata": {},
   "outputs": [
    {
     "data": {
      "text/plain": [
       "[12,\n",
       " 20,\n",
       " 5,\n",
       " 1,\n",
       " 12,\n",
       " 4,\n",
       " 26,\n",
       " 29,\n",
       " 27,\n",
       " 0,\n",
       " 7,\n",
       " 14,\n",
       " 19,\n",
       " 27,\n",
       " 15,\n",
       " 10,\n",
       " 28,\n",
       " 11,\n",
       " 0,\n",
       " 2,\n",
       " 22,\n",
       " 17,\n",
       " 23,\n",
       " 7,\n",
       " 17,\n",
       " 2,\n",
       " 26,\n",
       " 17,\n",
       " 5,\n",
       " 7,\n",
       " 6,\n",
       " 30,\n",
       " 18,\n",
       " 2,\n",
       " 17,\n",
       " 8,\n",
       " 0,\n",
       " 17,\n",
       " 4,\n",
       " 22,\n",
       " 23,\n",
       " 23,\n",
       " 14,\n",
       " 24,\n",
       " 18,\n",
       " 1,\n",
       " 12,\n",
       " 14,\n",
       " 2,\n",
       " 3,\n",
       " 30,\n",
       " 24,\n",
       " 29,\n",
       " 10,\n",
       " 1,\n",
       " 12,\n",
       " 25,\n",
       " 12,\n",
       " 29,\n",
       " 11,\n",
       " 11,\n",
       " 16,\n",
       " 13,\n",
       " 16,\n",
       " 9,\n",
       " 17,\n",
       " 22,\n",
       " 0,\n",
       " 15,\n",
       " 16,\n",
       " 22,\n",
       " 6,\n",
       " 23,\n",
       " 21,\n",
       " 9,\n",
       " 27,\n",
       " 25,\n",
       " 22,\n",
       " 8,\n",
       " 28,\n",
       " 9,\n",
       " 18,\n",
       " 12,\n",
       " 21,\n",
       " 13,\n",
       " 15,\n",
       " 3,\n",
       " 16,\n",
       " 27,\n",
       " 14,\n",
       " 5,\n",
       " 16,\n",
       " 29,\n",
       " 30,\n",
       " 20,\n",
       " 29,\n",
       " 7,\n",
       " 2,\n",
       " 28,\n",
       " 22]"
      ]
     },
     "execution_count": 40,
     "metadata": {},
     "output_type": "execute_result"
    }
   ],
   "source": [
    "list_1 = [random.randint(0, 30) for x in range (0, 100)] \n",
    "list(dict.fromkeys(list_1).keys())\n",
    "list_1"
   ]
  },
  {
   "cell_type": "markdown",
   "metadata": {},
   "source": [
    "2. Create a unique valued list from list_1"
   ]
  },
  {
   "cell_type": "code",
   "execution_count": 41,
   "metadata": {},
   "outputs": [
    {
     "data": {
      "text/plain": [
       "[12,\n",
       " 20,\n",
       " 5,\n",
       " 1,\n",
       " 4,\n",
       " 26,\n",
       " 29,\n",
       " 27,\n",
       " 0,\n",
       " 7,\n",
       " 14,\n",
       " 19,\n",
       " 15,\n",
       " 10,\n",
       " 28,\n",
       " 11,\n",
       " 2,\n",
       " 22,\n",
       " 17,\n",
       " 23,\n",
       " 6,\n",
       " 30,\n",
       " 18,\n",
       " 8,\n",
       " 24,\n",
       " 3,\n",
       " 25,\n",
       " 16,\n",
       " 13,\n",
       " 9,\n",
       " 21]"
      ]
     },
     "execution_count": 41,
     "metadata": {},
     "output_type": "execute_result"
    }
   ],
   "source": [
    "list(dict.fromkeys(list_1).keys()) "
   ]
  },
  {
   "cell_type": "code",
   "execution_count": null,
   "metadata": {},
   "outputs": [],
   "source": []
  }
 ],
 "metadata": {
  "kernelspec": {
   "display_name": "Python 3",
   "language": "python",
   "name": "python3"
  },
  "language_info": {
   "codemirror_mode": {
    "name": "ipython",
    "version": 3
   },
   "file_extension": ".py",
   "mimetype": "text/x-python",
   "name": "python",
   "nbconvert_exporter": "python",
   "pygments_lexer": "ipython3",
   "version": "3.7.3"
  }
 },
 "nbformat": 4,
 "nbformat_minor": 2
}
