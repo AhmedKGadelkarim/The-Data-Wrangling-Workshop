{
 "cells": [
  {
   "cell_type": "code",
   "execution_count": null,
   "metadata": {},
   "outputs": [],
   "source": [
    "import sqlite3\n",
    "with sqlite3.connect(\"Education_GDP.db\") as conn:\n",
    "    cursor = conn.cursor()\n",
    "    cursor.execute(\"CREATE TABLE IF NOT EXISTS \\\n",
    "                   education_gdp(Year INT, Enrollment FLOAT, GDP FLOAT, PRIMARY KEY (Year))\")\n"
   ]
  },
  {
   "cell_type": "code",
   "execution_count": null,
   "metadata": {},
   "outputs": [],
   "source": [
    "with sqlite3.connect(\"Education_GDP.db\") as conn:\n",
    "    cursor = conn.cursor()\n",
    "    for i in range(14):\n",
    "        year = int(primary_enrollment_with_gdp.iloc[i]['Year'])\n",
    "        enrollment = primary_enrollment_with_gdp.iloc[i]['Enrollments (Thou-sands)']\n",
    "        gdp = primary_enrollment_with_gdp.iloc[i]['GDP']\n",
    "        #print(year,enrollment,gdp)\n",
    "        cursor.execute(\"INSERT INTO education_gdp (Year,Enrollment,GDP) VAL-UES(?,?,?)\",(year,enrollment,gdp))\n"
   ]
  }
 ],
 "metadata": {
  "kernelspec": {
   "display_name": "Python 3",
   "language": "python",
   "name": "python3"
  },
  "language_info": {
   "codemirror_mode": {
    "name": "ipython",
    "version": 3
   },
   "file_extension": ".py",
   "mimetype": "text/x-python",
   "name": "python",
   "nbconvert_exporter": "python",
   "pygments_lexer": "ipython3",
   "version": "3.7.3"
  }
 },
 "nbformat": 4,
 "nbformat_minor": 2
}
