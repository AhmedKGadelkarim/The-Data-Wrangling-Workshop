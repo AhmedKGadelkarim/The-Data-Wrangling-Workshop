{
 "cells": [
  {
   "cell_type": "code",
   "execution_count": 24,
   "metadata": {},
   "outputs": [
    {
     "ename": "OperationalError",
     "evalue": "table comments already exists",
     "output_type": "error",
     "traceback": [
      "\u001b[1;31m---------------------------------------------------------------------------\u001b[0m",
      "\u001b[1;31mOperationalError\u001b[0m                          Traceback (most recent call last)",
      "\u001b[1;32m<ipython-input-24-dc2fa33964e8>\u001b[0m in \u001b[0;36m<module>\u001b[1;34m\u001b[0m\n\u001b[0;32m     10\u001b[0m         )\n\u001b[0;32m     11\u001b[0m     \"\"\"\n\u001b[1;32m---> 12\u001b[1;33m     \u001b[0mcursor\u001b[0m\u001b[1;33m.\u001b[0m\u001b[0mexecute\u001b[0m\u001b[1;33m(\u001b[0m\u001b[0msql\u001b[0m\u001b[1;33m)\u001b[0m\u001b[1;33m\u001b[0m\u001b[1;33m\u001b[0m\u001b[0m\n\u001b[0m",
      "\u001b[1;31mOperationalError\u001b[0m: table comments already exists"
     ]
    }
   ],
   "source": [
    "with sqlite3.connect(\"lesson.db\") as conn:\n",
    "    cursor = conn.cursor()\n",
    "    cursor.execute(\"PRAGMA foreign_keys = 1\")\n",
    "    sql = \"\"\"\n",
    "        CREATE TABLE comments (\n",
    "            user_id text,\n",
    "            comments text,\n",
    "            FOREIGN KEY (user_id) REFERENCES user (email) \n",
    "            ON DELETE CASCADE ON UPDATE NO ACTION\n",
    "        )\n",
    "    \"\"\"\n",
    "    cursor.execute(sql)"
   ]
  },
  {
   "cell_type": "code",
   "execution_count": 25,
   "metadata": {},
   "outputs": [
    {
     "name": "stdout",
     "output_type": "stream",
     "text": [
      "Going to create rows for bob@example.com2\n",
      "Going to create rows for tom@web.com2\n",
      "Going to create rows for shelly@www.com\n"
     ]
    }
   ],
   "source": [
    "with sqlite3.connect(\"lesson.db\") as conn:\n",
    "    cursor = conn.cursor()\n",
    "    cursor.execute(\"PRAGMA foreign_keys = 1\")\n",
    "    sql = \"INSERT INTO comments VALUES ('{}', '{}')\"\n",
    "    rows = cursor.execute('SELECT * FROM user ORDER BY age')\n",
    "    for row in rows:\n",
    "        email = row[0]\n",
    "        print(\"Going to create rows for {}\".format(email))\n",
    "        name = row[1] + \" \" + row[2]\n",
    "        for i in range(10):\n",
    "            comment = \"This is comment {} by {}\".format(i, name)\n",
    "            conn.cursor().execute(sql.format(email, comment))\n",
    "    conn.commit()"
   ]
  },
  {
   "cell_type": "code",
   "execution_count": null,
   "metadata": {},
   "outputs": [],
   "source": []
  },
  {
   "cell_type": "code",
   "execution_count": 27,
   "metadata": {},
   "outputs": [],
   "source": [
    "with sqlite3.connect(\"lesson.db\") as conn:\n",
    "    cursor = conn.cursor()\n",
    "    cursor.execute(\"PRAGMA foreign_keys = 1\")\n",
    "    sql = \"\"\"\n",
    "        SELECT * FROM comments \n",
    "        JOIN user ON comments.user_id = user.email\n",
    "        WHERE user.email='bob@example.com'\n",
    "    \"\"\"\n",
    "    rows = cursor.execute(sql)\n",
    "    for row in rows:\n",
    "        print(row)"
   ]
  },
  {
   "cell_type": "code",
   "execution_count": 28,
   "metadata": {},
   "outputs": [],
   "source": [
    "with sqlite3.connect(\"lesson.db\") as conn:\n",
    "    cursor = conn.cursor()\n",
    "    cursor.execute(\"PRAGMA foreign_keys = 1\")\n",
    "    sql = \"\"\"\n",
    "        SELECT comments.* FROM comments\n",
    "        JOIN user ON comments.user_id = user.email\n",
    "        WHERE user.email='bob@example.com'\n",
    "    \"\"\"\n",
    "    rows = cursor.execute(sql)\n",
    "    for row in rows:\n",
    "        print(row)"
   ]
  },
  {
   "cell_type": "code",
   "execution_count": null,
   "metadata": {},
   "outputs": [],
   "source": []
  }
 ],
 "metadata": {
  "kernelspec": {
   "display_name": "Python 3",
   "language": "python",
   "name": "python3"
  },
  "language_info": {
   "codemirror_mode": {
    "name": "ipython",
    "version": 3
   },
   "file_extension": ".py",
   "mimetype": "text/x-python",
   "name": "python",
   "nbconvert_exporter": "python",
   "pygments_lexer": "ipython3",
   "version": "3.7.3"
  }
 },
 "nbformat": 4,
 "nbformat_minor": 2
}
